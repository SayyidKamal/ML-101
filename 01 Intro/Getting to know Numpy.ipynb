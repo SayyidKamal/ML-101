{
 "cells": [
  {
   "cell_type": "markdown",
   "id": "c6d6231a-2cc0-4a59-b4c0-aae32b654397",
   "metadata": {},
   "source": [
    "# INTRODUCTION TO NUMPY"
   ]
  },
  {
   "cell_type": "markdown",
   "id": "78595cb4-f1f9-4b29-a334-9cd876186370",
   "metadata": {
    "jp-MarkdownHeadingCollapsed": true
   },
   "source": [
    "## 1d Array"
   ]
  },
  {
   "cell_type": "code",
   "execution_count": 1,
   "id": "58b7c5bb-b547-4cb9-a855-c1b2cc12a247",
   "metadata": {},
   "outputs": [],
   "source": [
    "import numpy as np"
   ]
  },
  {
   "cell_type": "code",
   "execution_count": 2,
   "id": "55081a58-1fad-4835-8dca-245331e8580c",
   "metadata": {},
   "outputs": [
    {
     "data": {
      "text/plain": [
       "<module 'numpy' from '/home/codespace/.local/lib/python3.12/site-packages/numpy/__init__.py'>"
      ]
     },
     "execution_count": 2,
     "metadata": {},
     "output_type": "execute_result"
    }
   ],
   "source": [
    "np"
   ]
  },
  {
   "cell_type": "code",
   "execution_count": 3,
   "id": "3f728e53-40f6-45b5-88d2-692229031986",
   "metadata": {},
   "outputs": [
    {
     "data": {
      "text/plain": [
       "array([12, 12, 12, 12, 12])"
      ]
     },
     "execution_count": 3,
     "metadata": {},
     "output_type": "execute_result"
    }
   ],
   "source": [
    "np.full(5,12)"
   ]
  },
  {
   "cell_type": "code",
   "execution_count": 4,
   "id": "f1106026-60b1-4fb9-be5a-64dfa9ae0c33",
   "metadata": {},
   "outputs": [],
   "source": [
    "x = np.array([1,2,34,5,5,6])"
   ]
  },
  {
   "cell_type": "code",
   "execution_count": 5,
   "id": "853d1ae1-ac7d-48f7-9ad9-a09fdb2e6493",
   "metadata": {},
   "outputs": [
    {
     "data": {
      "text/plain": [
       "np.int64(25)"
      ]
     },
     "execution_count": 5,
     "metadata": {},
     "output_type": "execute_result"
    }
   ],
   "source": [
    "x[3] * 5"
   ]
  },
  {
   "cell_type": "code",
   "execution_count": 6,
   "id": "818163b0-40d1-4e26-b1bc-d6b4f30b7d1b",
   "metadata": {},
   "outputs": [
    {
     "data": {
      "text/plain": [
       "array([3, 4, 5, 6, 7, 8, 9])"
      ]
     },
     "execution_count": 6,
     "metadata": {},
     "output_type": "execute_result"
    }
   ],
   "source": [
    "np.arange(3,10)"
   ]
  },
  {
   "cell_type": "code",
   "execution_count": 10,
   "id": "761d8932-5d8d-4fe6-8dc6-ef3266ec4f1f",
   "metadata": {},
   "outputs": [
    {
     "data": {
      "text/plain": [
       "array([ 1.  ,  2.25,  3.5 ,  4.75,  6.  ,  7.25,  8.5 ,  9.75, 11.  ])"
      ]
     },
     "execution_count": 10,
     "metadata": {},
     "output_type": "execute_result"
    }
   ],
   "source": [
    "np.linspace(1,11,9)"
   ]
  },
  {
   "cell_type": "markdown",
   "id": "90710354-91a9-4edf-8222-737e98233ccd",
   "metadata": {},
   "source": [
    "## MultiDimention"
   ]
  },
  {
   "cell_type": "code",
   "execution_count": 37,
   "id": "4783c11e-97d1-4620-8151-bd3015efbf25",
   "metadata": {},
   "outputs": [
    {
     "data": {
      "text/plain": [
       "array([[0., 0.],\n",
       "       [0., 0.],\n",
       "       [0., 0.],\n",
       "       [0., 0.],\n",
       "       [0., 0.]])"
      ]
     },
     "execution_count": 37,
     "metadata": {},
     "output_type": "execute_result"
    }
   ],
   "source": [
    "np.zeros((5,2))"
   ]
  },
  {
   "cell_type": "code",
   "execution_count": 38,
   "id": "632c39fb-d2b5-438d-843a-da18e325d464",
   "metadata": {},
   "outputs": [],
   "source": [
    "n = np.array([[1,2,3,4],[5,6,7,8,]])"
   ]
  },
  {
   "cell_type": "code",
   "execution_count": 39,
   "id": "c95a681a-6b00-4244-acaa-185e463baa72",
   "metadata": {},
   "outputs": [
    {
     "data": {
      "text/plain": [
       "np.int64(2)"
      ]
     },
     "execution_count": 39,
     "metadata": {},
     "output_type": "execute_result"
    }
   ],
   "source": [
    "n[0][1]\n"
   ]
  },
  {
   "cell_type": "code",
   "execution_count": 40,
   "id": "48372761-37f1-47a9-b97c-e092b96336ca",
   "metadata": {},
   "outputs": [
    {
     "data": {
      "text/plain": [
       "array([1, 2, 3, 4])"
      ]
     },
     "execution_count": 40,
     "metadata": {},
     "output_type": "execute_result"
    }
   ],
   "source": [
    "n[0]"
   ]
  },
  {
   "cell_type": "code",
   "execution_count": 41,
   "id": "75ff20c4-7864-4406-949e-032c2aa1cb21",
   "metadata": {},
   "outputs": [
    {
     "data": {
      "text/plain": [
       "array([2, 6])"
      ]
     },
     "execution_count": 41,
     "metadata": {},
     "output_type": "execute_result"
    }
   ],
   "source": [
    "n[:,1]"
   ]
  },
  {
   "cell_type": "code",
   "execution_count": 42,
   "id": "7fe419f2-76db-4130-910f-96bd8d760f55",
   "metadata": {},
   "outputs": [],
   "source": [
    "n[:,1] = [0,1]"
   ]
  },
  {
   "cell_type": "code",
   "execution_count": 43,
   "id": "e14357b9-838c-40a4-b7a9-dfa22e70de04",
   "metadata": {},
   "outputs": [
    {
     "data": {
      "text/plain": [
       "array([0, 1])"
      ]
     },
     "execution_count": 43,
     "metadata": {},
     "output_type": "execute_result"
    }
   ],
   "source": [
    "n[:,1]"
   ]
  },
  {
   "cell_type": "markdown",
   "id": "61f48c0c-686c-43eb-bcd0-7593b0593bda",
   "metadata": {},
   "source": [
    "## RandomArrays"
   ]
  },
  {
   "cell_type": "code",
   "execution_count": 52,
   "id": "a4472ea5-a163-45f0-ac02-58a3f007b844",
   "metadata": {},
   "outputs": [
    {
     "data": {
      "text/plain": [
       "array([[0.20290687, 0.09253667, 0.26139401, 0.42239359],\n",
       "       [0.71061627, 0.53999179, 0.24880703, 0.65470943]])"
      ]
     },
     "execution_count": 52,
     "metadata": {},
     "output_type": "execute_result"
    }
   ],
   "source": [
    "np.random.rand(2,4)"
   ]
  },
  {
   "cell_type": "code",
   "execution_count": 56,
   "id": "3572df0f-2565-4aa5-aa22-8fb2a1292969",
   "metadata": {},
   "outputs": [
    {
     "data": {
      "text/plain": [
       "array([[0.64414354, 0.38074849, 0.66304791, 0.16365073],\n",
       "       [0.96260781, 0.34666184, 0.99175099, 0.2350579 ]])"
      ]
     },
     "execution_count": 56,
     "metadata": {},
     "output_type": "execute_result"
    }
   ],
   "source": [
    "np.random.seed(30)\n",
    "np.random.rand(2,4)"
   ]
  },
  {
   "cell_type": "code",
   "execution_count": 58,
   "id": "b386804c-7f66-43e4-a081-d7a6843413e3",
   "metadata": {},
   "outputs": [
    {
     "data": {
      "text/plain": [
       "array([[-1.26405266,  1.52790535, -0.97071094,  0.47055962],\n",
       "       [-0.10069672,  0.30379318, -1.72596243,  1.58509537]])"
      ]
     },
     "execution_count": 58,
     "metadata": {},
     "output_type": "execute_result"
    }
   ],
   "source": [
    "#Standard normal dist (randN)\n",
    "np.random.seed(30)\n",
    "np.random.randn(2,4)"
   ]
  },
  {
   "cell_type": "code",
   "execution_count": 59,
   "id": "1b21ca09-6bf5-43e9-942b-1a15f8497f9a",
   "metadata": {},
   "outputs": [
    {
     "data": {
      "text/plain": [
       "array([[64.41435361, 38.07484896, 66.30479053, 16.36507261],\n",
       "       [96.26078137, 34.66618404, 99.17509923, 23.50578956]])"
      ]
     },
     "execution_count": 59,
     "metadata": {},
     "output_type": "execute_result"
    }
   ],
   "source": [
    "#Random numbers from 1 to 100\n",
    "np.random.seed(30)\n",
    "100 * np.random.rand(2,4)"
   ]
  },
  {
   "cell_type": "code",
   "execution_count": 61,
   "id": "a5168797-1aa7-4b44-8c60-5f8579fb81ed",
   "metadata": {},
   "outputs": [
    {
     "data": {
      "text/plain": [
       "array([[ 5,  5],\n",
       "       [13, 13],\n",
       "       [12,  2],\n",
       "       [17, 14],\n",
       "       [ 3,  9]])"
      ]
     },
     "execution_count": 61,
     "metadata": {},
     "output_type": "execute_result"
    }
   ],
   "source": [
    "#Random Int\n",
    "np.random.seed(30)\n",
    "np.random.randint(low=0 ,high=20 , size=(5,2))"
   ]
  },
  {
   "cell_type": "markdown",
   "id": "227dc860-94fa-4bd8-8036-8582638f6ad3",
   "metadata": {},
   "source": [
    "## Element Wise ops"
   ]
  },
  {
   "cell_type": "code",
   "execution_count": 64,
   "id": "e95a7d56-88b6-4bf7-b17c-a18972412edd",
   "metadata": {},
   "outputs": [],
   "source": [
    "a = np.array([0,1,2,3,4,5])"
   ]
  },
  {
   "cell_type": "code",
   "execution_count": 68,
   "id": "7590b99d-df67-4507-8f67-2a02d682502a",
   "metadata": {},
   "outputs": [
    {
     "data": {
      "text/plain": [
       "array([0, 1, 2, 3, 4, 5])"
      ]
     },
     "execution_count": 68,
     "metadata": {},
     "output_type": "execute_result"
    }
   ],
   "source": [
    "a"
   ]
  },
  {
   "cell_type": "code",
   "execution_count": 67,
   "id": "0c86dec3-b93e-46bf-a612-19d609f2921a",
   "metadata": {},
   "outputs": [
    {
     "data": {
      "text/plain": [
       "array([1, 2, 3, 4, 5, 6])"
      ]
     },
     "execution_count": 67,
     "metadata": {},
     "output_type": "execute_result"
    }
   ],
   "source": [
    "a + 1"
   ]
  },
  {
   "cell_type": "code",
   "execution_count": 78,
   "id": "d3276a4b-6516-4ea1-b05f-0766fd7ff738",
   "metadata": {},
   "outputs": [],
   "source": [
    "b = ((a/2)**2)"
   ]
  },
  {
   "cell_type": "code",
   "execution_count": 79,
   "id": "f06c8fce-6396-4d42-9db2-85af8b22d520",
   "metadata": {},
   "outputs": [
    {
     "data": {
      "text/plain": [
       "array([0.  , 0.25, 1.  , 2.25, 4.  , 6.25])"
      ]
     },
     "execution_count": 79,
     "metadata": {},
     "output_type": "execute_result"
    }
   ],
   "source": [
    "b"
   ]
  },
  {
   "cell_type": "code",
   "execution_count": 80,
   "id": "7d39fb5f-6a51-4697-a943-7af1a5579602",
   "metadata": {},
   "outputs": [
    {
     "data": {
      "text/plain": [
       "array([ 0.  ,  1.25,  3.  ,  5.25,  8.  , 11.25])"
      ]
     },
     "execution_count": 80,
     "metadata": {},
     "output_type": "execute_result"
    }
   ],
   "source": [
    "a+b"
   ]
  },
  {
   "cell_type": "markdown",
   "id": "7da25c00-7290-40f7-bf35-8a287599e14f",
   "metadata": {},
   "source": [
    "## Comparison Operations"
   ]
  },
  {
   "cell_type": "code",
   "execution_count": 70,
   "id": "d6b51b24-8972-449a-b212-cfc0a576e6e0",
   "metadata": {},
   "outputs": [
    {
     "data": {
      "text/plain": [
       "array([0, 1, 2, 3, 4, 5])"
      ]
     },
     "execution_count": 70,
     "metadata": {},
     "output_type": "execute_result"
    }
   ],
   "source": [
    "a"
   ]
  },
  {
   "cell_type": "code",
   "execution_count": 82,
   "id": "0266dd92-367b-453f-bb25-5a24d830c31e",
   "metadata": {},
   "outputs": [
    {
     "data": {
      "text/plain": [
       "array([0.  , 0.25, 1.  , 2.25, 4.  , 6.25])"
      ]
     },
     "execution_count": 82,
     "metadata": {},
     "output_type": "execute_result"
    }
   ],
   "source": [
    "b"
   ]
  },
  {
   "cell_type": "code",
   "execution_count": 71,
   "id": "b2c571fc-fa03-4ea9-a63f-824a0b3c9411",
   "metadata": {},
   "outputs": [
    {
     "data": {
      "text/plain": [
       "array([False, False,  True,  True,  True,  True])"
      ]
     },
     "execution_count": 71,
     "metadata": {},
     "output_type": "execute_result"
    }
   ],
   "source": [
    "a >=2"
   ]
  },
  {
   "cell_type": "code",
   "execution_count": 81,
   "id": "79f601c6-60e8-4af8-bbc9-249e7fcdc13e",
   "metadata": {},
   "outputs": [
    {
     "data": {
      "text/plain": [
       "array([False,  True,  True,  True, False, False])"
      ]
     },
     "execution_count": 81,
     "metadata": {},
     "output_type": "execute_result"
    }
   ],
   "source": [
    "a > b"
   ]
  },
  {
   "cell_type": "code",
   "execution_count": 85,
   "id": "532e7def-ee61-4ef8-b1dd-ffa20be8bb06",
   "metadata": {},
   "outputs": [
    {
     "data": {
      "text/plain": [
       "(array([1, 2, 3]), array([0.25, 1.  , 2.25]))"
      ]
     },
     "execution_count": 85,
     "metadata": {},
     "output_type": "execute_result"
    }
   ],
   "source": [
    "a[a > b],b[a > b]"
   ]
  },
  {
   "cell_type": "markdown",
   "id": "3bcfa129-2e04-468e-8089-5d985d57f339",
   "metadata": {},
   "source": [
    "## Summarizing OPS"
   ]
  },
  {
   "cell_type": "code",
   "execution_count": 87,
   "id": "44ace409-a8e8-4b95-95dc-220b662daa48",
   "metadata": {},
   "outputs": [
    {
     "data": {
      "text/plain": [
       "array([0, 1, 2, 3, 4, 5])"
      ]
     },
     "execution_count": 87,
     "metadata": {},
     "output_type": "execute_result"
    }
   ],
   "source": [
    "a"
   ]
  },
  {
   "cell_type": "code",
   "execution_count": 88,
   "id": "e58b4cd8-384e-478d-91ef-c05d94f2ad4a",
   "metadata": {},
   "outputs": [
    {
     "data": {
      "text/plain": [
       "np.int64(0)"
      ]
     },
     "execution_count": 88,
     "metadata": {},
     "output_type": "execute_result"
    }
   ],
   "source": [
    "a.min()"
   ]
  },
  {
   "cell_type": "code",
   "execution_count": 89,
   "id": "36d2e0c8-e3b5-4854-92ac-d9e9dbd96d2b",
   "metadata": {},
   "outputs": [
    {
     "data": {
      "text/plain": [
       "np.int64(5)"
      ]
     },
     "execution_count": 89,
     "metadata": {},
     "output_type": "execute_result"
    }
   ],
   "source": [
    "a.max()"
   ]
  },
  {
   "cell_type": "code",
   "execution_count": 90,
   "id": "2d3c571a-e50c-4ad6-8075-79ef47962ca3",
   "metadata": {},
   "outputs": [
    {
     "data": {
      "text/plain": [
       "np.float64(2.5)"
      ]
     },
     "execution_count": 90,
     "metadata": {},
     "output_type": "execute_result"
    }
   ],
   "source": [
    "a.mean()"
   ]
  },
  {
   "cell_type": "code",
   "execution_count": 91,
   "id": "2b16232e-0f66-4806-ad91-7835a857baab",
   "metadata": {},
   "outputs": [
    {
     "data": {
      "text/plain": [
       "np.float64(1.707825127659933)"
      ]
     },
     "execution_count": 91,
     "metadata": {},
     "output_type": "execute_result"
    }
   ],
   "source": [
    "a.std()"
   ]
  },
  {
   "cell_type": "code",
   "execution_count": 93,
   "id": "f2b271a7-bfa3-4d33-89d4-7d1dc982baf0",
   "metadata": {},
   "outputs": [
    {
     "data": {
      "text/plain": [
       "np.int64(15)"
      ]
     },
     "execution_count": 93,
     "metadata": {},
     "output_type": "execute_result"
    }
   ],
   "source": [
    "a.sum()"
   ]
  }
 ],
 "metadata": {
  "kernelspec": {
   "display_name": "Python 3 (ipykernel)",
   "language": "python",
   "name": "python3"
  },
  "language_info": {
   "codemirror_mode": {
    "name": "ipython",
    "version": 3
   },
   "file_extension": ".py",
   "mimetype": "text/x-python",
   "name": "python",
   "nbconvert_exporter": "python",
   "pygments_lexer": "ipython3",
   "version": "3.12.3"
  }
 },
 "nbformat": 4,
 "nbformat_minor": 5
}
