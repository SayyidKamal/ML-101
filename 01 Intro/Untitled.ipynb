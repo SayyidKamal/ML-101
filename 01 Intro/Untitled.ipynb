{
 "cells": [
  {
   "cell_type": "markdown",
   "id": "554db282-0291-4dac-866d-5ad6e0bf938f",
   "metadata": {},
   "source": [
    "# Linear Algebra\n"
   ]
  },
  {
   "cell_type": "markdown",
   "id": "863a3b55-2e5a-49cd-9e75-b978510f8c5f",
   "metadata": {},
   "source": [
    "## Vector OPS"
   ]
  },
  {
   "cell_type": "code",
   "execution_count": 1,
   "id": "7d47d576-28b9-4d77-8963-a66e6933e6ba",
   "metadata": {},
   "outputs": [],
   "source": [
    "import numpy as np"
   ]
  },
  {
   "cell_type": "code",
   "execution_count": 2,
   "id": "518c057d-39a0-4593-979f-e16465254635",
   "metadata": {},
   "outputs": [],
   "source": [
    "u = np.array([2,4,5,6])"
   ]
  },
  {
   "cell_type": "code",
   "execution_count": 3,
   "id": "906a030c-4a41-420b-976a-118750d598dc",
   "metadata": {},
   "outputs": [
    {
     "data": {
      "text/plain": [
       "array([ 4,  8, 10, 12])"
      ]
     },
     "execution_count": 3,
     "metadata": {},
     "output_type": "execute_result"
    }
   ],
   "source": [
    "#Multiplying a vector\n",
    "2 * u"
   ]
  },
  {
   "cell_type": "code",
   "execution_count": 4,
   "id": "b81c026f-b904-44b4-8ae0-32f85aeae680",
   "metadata": {},
   "outputs": [],
   "source": [
    "v = np.array([1,0,0,2])"
   ]
  },
  {
   "cell_type": "code",
   "execution_count": 5,
   "id": "f9f480eb-67c5-4c76-a253-650fef4ce5a5",
   "metadata": {},
   "outputs": [
    {
     "data": {
      "text/plain": [
       "array([3, 4, 5, 8])"
      ]
     },
     "execution_count": 5,
     "metadata": {},
     "output_type": "execute_result"
    }
   ],
   "source": [
    "##Adding a vector\n",
    "u+v"
   ]
  },
  {
   "cell_type": "code",
   "execution_count": 6,
   "id": "805ee868-4e86-4275-b0d6-30f24efbf4b9",
   "metadata": {},
   "outputs": [
    {
     "data": {
      "text/plain": [
       "array([ 2,  0,  0, 12])"
      ]
     },
     "execution_count": 6,
     "metadata": {},
     "output_type": "execute_result"
    }
   ],
   "source": [
    "u*v"
   ]
  },
  {
   "cell_type": "markdown",
   "id": "1857e452-a74a-4657-a3f3-34f8e1acc68e",
   "metadata": {},
   "source": [
    "## Multiplication"
   ]
  },
  {
   "cell_type": "markdown",
   "id": "0202dfee-85b2-4bb0-adb8-82cba0260703",
   "metadata": {},
   "source": [
    "- Vector-Vector\n",
    "- Vector-Matrix\n",
    "- Matrix-Matrix"
   ]
  },
  {
   "cell_type": "markdown",
   "id": "c52fcbcb-871a-42e9-ad40-c1735402cac5",
   "metadata": {},
   "source": [
    "### Vector-Vector (dot Product)"
   ]
  },
  {
   "cell_type": "code",
   "execution_count": 7,
   "id": "ba8654b0-96cc-442a-b1f0-4ddb5a61bc3d",
   "metadata": {},
   "outputs": [
    {
     "data": {
      "text/plain": [
       "4"
      ]
     },
     "execution_count": 7,
     "metadata": {},
     "output_type": "execute_result"
    }
   ],
   "source": [
    "u.shape[0]"
   ]
  },
  {
   "cell_type": "code",
   "execution_count": 8,
   "id": "b93633b2-9b88-4c9e-afb8-f8f5a7f19a88",
   "metadata": {},
   "outputs": [],
   "source": [
    "##Multiply vector and vector and sum it all up\n",
    "\n",
    "def vector_vector_mult(u,v):\n",
    "    assert u.shape[0] == v.shape[0]\n",
    "\n",
    "    n = u.shape[0]\n",
    "    result = 0.0\n",
    "    for i in range (n):\n",
    "        result = result + u[i] * v[i]\n",
    "\n",
    "    return result\n",
    "        "
   ]
  },
  {
   "cell_type": "code",
   "execution_count": 9,
   "id": "629a6e34-4c07-4239-ae75-990d87089755",
   "metadata": {},
   "outputs": [
    {
     "data": {
      "text/plain": [
       "np.float64(14.0)"
      ]
     },
     "execution_count": 9,
     "metadata": {},
     "output_type": "execute_result"
    }
   ],
   "source": [
    "vector_vector_mult(u,v)"
   ]
  },
  {
   "cell_type": "code",
   "execution_count": 10,
   "id": "a50e89ac-650c-407d-bfce-f556fb93756d",
   "metadata": {},
   "outputs": [
    {
     "data": {
      "text/plain": [
       "np.int64(14)"
      ]
     },
     "execution_count": 10,
     "metadata": {},
     "output_type": "execute_result"
    }
   ],
   "source": [
    "u.dot(v)"
   ]
  },
  {
   "cell_type": "markdown",
   "id": "18b7d457-0699-44ed-925e-8c2f46c3b9a7",
   "metadata": {},
   "source": [
    "### Vector-Matrix (dot Product)"
   ]
  },
  {
   "cell_type": "code",
   "execution_count": 11,
   "id": "cbf3c296-0d40-4398-8cae-0189a77949b4",
   "metadata": {},
   "outputs": [
    {
     "data": {
      "text/plain": [
       "array([[9, 4, 0, 1],\n",
       "       [9, 0, 1, 8],\n",
       "       [9, 0, 8, 6]])"
      ]
     },
     "execution_count": 11,
     "metadata": {},
     "output_type": "execute_result"
    }
   ],
   "source": [
    "np.random.seed(10)\n",
    "U = np.random.randint(low= 0,high=10,size=(3,4))\n",
    "U"
   ]
  },
  {
   "cell_type": "code",
   "execution_count": 12,
   "id": "26954b42-97c3-4238-9dbe-cf2b731b9f79",
   "metadata": {},
   "outputs": [],
   "source": [
    "def matrix_vector_mult(U,v):\n",
    "    assert U.shape[1] == v.shape[0]\n",
    "\n",
    "    num_rows = U.shape[0]\n",
    "    result = np.zeros(num_rows)\n",
    "    for i in range (num_rows):\n",
    "        result[i] = vector_vector_mult(U[i],v)\n",
    "    return result"
   ]
  },
  {
   "cell_type": "code",
   "execution_count": 13,
   "id": "640e5b97-4d0d-4d80-ad93-46c95b628f68",
   "metadata": {},
   "outputs": [
    {
     "data": {
      "text/plain": [
       "array([11., 25., 21.])"
      ]
     },
     "execution_count": 13,
     "metadata": {},
     "output_type": "execute_result"
    }
   ],
   "source": [
    "matrix_vector_mult(U,v)"
   ]
  },
  {
   "cell_type": "code",
   "execution_count": 14,
   "id": "48f8036c-4373-42a8-8947-a39503e554d3",
   "metadata": {},
   "outputs": [
    {
     "data": {
      "text/plain": [
       "array([11, 25, 21])"
      ]
     },
     "execution_count": 14,
     "metadata": {},
     "output_type": "execute_result"
    }
   ],
   "source": [
    "U.dot(v)"
   ]
  },
  {
   "cell_type": "markdown",
   "id": "1482a664-35ba-471b-8c53-e11ef427a8a4",
   "metadata": {},
   "source": [
    "### Matrix-Matrix (dot Product)"
   ]
  },
  {
   "cell_type": "code",
   "execution_count": 15,
   "id": "122e6e9d-44ac-48f4-8248-cd6c7f46b432",
   "metadata": {},
   "outputs": [
    {
     "data": {
      "text/plain": [
       "array([[5, 8, 9],\n",
       "       [5, 0, 0],\n",
       "       [1, 7, 6],\n",
       "       [9, 2, 4]])"
      ]
     },
     "execution_count": 15,
     "metadata": {},
     "output_type": "execute_result"
    }
   ],
   "source": [
    "np.random.seed(1)\n",
    "V = np.array([[5, 8, 9],\n",
    "       [5, 0, 0],\n",
    "       [1, 7, 6],\n",
    "       [9, 2, 4]])\n",
    "V"
   ]
  },
  {
   "cell_type": "code",
   "execution_count": 16,
   "id": "099781a9-3253-423d-ab4b-ca1e081e611e",
   "metadata": {},
   "outputs": [
    {
     "data": {
      "text/plain": [
       "True"
      ]
     },
     "execution_count": 16,
     "metadata": {},
     "output_type": "execute_result"
    }
   ],
   "source": [
    "U.shape[1] == V.shape[0]"
   ]
  },
  {
   "cell_type": "code",
   "execution_count": 17,
   "id": "86e8021b-cbe2-4b52-af60-804b76f88d71",
   "metadata": {},
   "outputs": [],
   "source": [
    "def matrix_matrix_multiplication(U,V):\n",
    "    assert U.shape[1] == V.shape[0]\n",
    "\n",
    "    num_rows = U.shape[0]\n",
    "    num_cols = V.shape[1]\n",
    "    \n",
    "    result = np.zeros((num_rows,num_cols))\n",
    "    \n",
    "    for i in range (num_cols):\n",
    "        Vi = V[:,i]\n",
    "        UVi = matrix_vector_mult(U,Vi)\n",
    "\n",
    "        result[:,i] = UVi\n",
    "    return result"
   ]
  },
  {
   "cell_type": "code",
   "execution_count": 18,
   "id": "ad22a2f3-e4a1-4b15-939d-3669383a8bd1",
   "metadata": {},
   "outputs": [
    {
     "data": {
      "text/plain": [
       "array([[ 74.,  74.,  85.],\n",
       "       [118.,  95., 119.],\n",
       "       [107., 140., 153.]])"
      ]
     },
     "execution_count": 18,
     "metadata": {},
     "output_type": "execute_result"
    }
   ],
   "source": [
    "matrix_matrix_multiplication(U,V)"
   ]
  },
  {
   "cell_type": "code",
   "execution_count": 19,
   "id": "27c6c56f-4591-4598-8b0e-da5ff97a327e",
   "metadata": {},
   "outputs": [
    {
     "data": {
      "text/plain": [
       "array([[ 74,  74,  85],\n",
       "       [118,  95, 119],\n",
       "       [107, 140, 153]])"
      ]
     },
     "execution_count": 19,
     "metadata": {},
     "output_type": "execute_result"
    }
   ],
   "source": [
    "U.dot(V)"
   ]
  },
  {
   "cell_type": "markdown",
   "id": "0d620a6b-7fc8-41fb-830f-a67062a97bfb",
   "metadata": {},
   "source": [
    "### Identity Matrix (I)\n",
    "\n",
    "An **identity matrix** is a square matrix with `1`s on the diagonal and `0`s elsewhere:\n",
    "\n",
    "It acts like `1` in matrix multiplication:\n",
    "\n",
    "$$\n",
    "A \\\\. I = A\n",
    "$$\n",
    "\n",
    "Used in ML for:\n",
    "- Preserving values in transformations\n",
    "- Matrix inverse checks:  \n",
    "  $$\n",
    "  A^{-1} \\\\. A = I\n",
    "  $$"
   ]
  },
  {
   "cell_type": "code",
   "execution_count": 20,
   "id": "90b41de3-85eb-49a1-aac2-26a07ffec51e",
   "metadata": {},
   "outputs": [],
   "source": [
    "I = np.eye(4)"
   ]
  },
  {
   "cell_type": "code",
   "execution_count": 21,
   "id": "7f3bace0-10a6-438a-a61c-cffd067abc58",
   "metadata": {},
   "outputs": [
    {
     "data": {
      "text/plain": [
       "array([[9, 4, 0, 1],\n",
       "       [9, 0, 1, 8],\n",
       "       [9, 0, 8, 6]])"
      ]
     },
     "execution_count": 21,
     "metadata": {},
     "output_type": "execute_result"
    }
   ],
   "source": [
    "U"
   ]
  },
  {
   "cell_type": "code",
   "execution_count": 22,
   "id": "e8ba8c67-832c-4509-9adb-f0b477746903",
   "metadata": {},
   "outputs": [
    {
     "data": {
      "text/plain": [
       "array([[9., 4., 0., 1.],\n",
       "       [9., 0., 1., 8.],\n",
       "       [9., 0., 8., 6.]])"
      ]
     },
     "execution_count": 22,
     "metadata": {},
     "output_type": "execute_result"
    }
   ],
   "source": [
    "U.dot(I)"
   ]
  },
  {
   "cell_type": "markdown",
   "id": "61acc906-1b13-49e9-b6eb-d2ce3127278e",
   "metadata": {},
   "source": [
    " ## Matrix Inverse in Machine Learning\n",
    "\n",
    "In linear algebra, the **inverse of a matrix** is a powerful concept especially in machine learning, where it's used in solving systems of equations, computing weights in linear regression, and more.\n",
    "\n",
    "For a square matrix **A**, its inverse is denoted as **A⁻¹**, and it satisfies the following property:\n",
    "\n",
    "$$\n",
    "A^{-1} \\cdot A = I\n",
    "$$\n",
    "\n",
    "Where **I** is the **identity matrix**, which acts like the number 1 in matrix multiplication.\n"
   ]
  },
  {
   "cell_type": "code",
   "execution_count": 23,
   "id": "f7ec9f9e-8875-48d6-8b8e-eb3620046075",
   "metadata": {},
   "outputs": [],
   "source": [
    "Vs = V[[0,1,2]]"
   ]
  },
  {
   "cell_type": "code",
   "execution_count": 24,
   "id": "d7977a0d-a3d4-4bce-b16b-c1fd1b51d7e9",
   "metadata": {},
   "outputs": [
    {
     "data": {
      "text/plain": [
       "array([[5, 8, 9],\n",
       "       [5, 0, 0],\n",
       "       [1, 7, 6]])"
      ]
     },
     "execution_count": 24,
     "metadata": {},
     "output_type": "execute_result"
    }
   ],
   "source": [
    "Vs"
   ]
  },
  {
   "cell_type": "code",
   "execution_count": 25,
   "id": "76c07250-6b40-4e5e-9498-f6b61f3b148e",
   "metadata": {},
   "outputs": [
    {
     "data": {
      "text/plain": [
       "array([[ 0.        ,  0.2       ,  0.        ],\n",
       "       [-0.4       ,  0.28      ,  0.6       ],\n",
       "       [ 0.46666667, -0.36      , -0.53333333]])"
      ]
     },
     "execution_count": 25,
     "metadata": {},
     "output_type": "execute_result"
    }
   ],
   "source": [
    "Vs_inv = np.linalg.inv(Vs)\n",
    "Vs_inv"
   ]
  },
  {
   "cell_type": "code",
   "execution_count": 27,
   "id": "b2f70691-feb7-4b39-9a18-cf81b8cfba12",
   "metadata": {},
   "outputs": [
    {
     "data": {
      "text/plain": [
       "array([[1, 0, 0],\n",
       "       [0, 0, 0],\n",
       "       [0, 0, 1]])"
      ]
     },
     "execution_count": 27,
     "metadata": {},
     "output_type": "execute_result"
    }
   ],
   "source": [
    "Vs_inv.dot(Vs).astype(int)"
   ]
  }
 ],
 "metadata": {
  "kernelspec": {
   "display_name": "Python 3 (ipykernel)",
   "language": "python",
   "name": "python3"
  },
  "language_info": {
   "codemirror_mode": {
    "name": "ipython",
    "version": 3
   },
   "file_extension": ".py",
   "mimetype": "text/x-python",
   "name": "python",
   "nbconvert_exporter": "python",
   "pygments_lexer": "ipython3",
   "version": "3.12.3"
  }
 },
 "nbformat": 4,
 "nbformat_minor": 5
}
