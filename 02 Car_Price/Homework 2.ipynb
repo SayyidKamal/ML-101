{
 "cells": [
  {
   "cell_type": "code",
   "execution_count": 2,
   "id": "7ca1af6f-78de-465a-ab03-8e8ba9293045",
   "metadata": {},
   "outputs": [],
   "source": [
    "import pandas as pd\n",
    "import numpy as np\n",
    "\n",
    "\n",
    "import seaborn as sns\n",
    "from matplotlib import pyplot as plt\n",
    "%matplotlib inline"
   ]
  },
  {
   "cell_type": "code",
   "execution_count": 3,
   "id": "9a802b0a-ab77-458d-bec1-d05a087611ec",
   "metadata": {},
   "outputs": [],
   "source": [
    "#data = 'https://raw.githubusercontent.com/alexeygrigorev/datasets/master/car_fuel_efficiency.csv'\n"
   ]
  },
  {
   "cell_type": "code",
   "execution_count": 4,
   "id": "da090cd8-b0a1-4435-a876-8d1e732a4cd5",
   "metadata": {},
   "outputs": [],
   "source": [
    "#!wget $data "
   ]
  },
  {
   "cell_type": "code",
   "execution_count": 5,
   "id": "7db63e51-1a8d-4750-8464-89abe37dcd8e",
   "metadata": {},
   "outputs": [
    {
     "data": {
      "text/html": [
       "<div>\n",
       "<style scoped>\n",
       "    .dataframe tbody tr th:only-of-type {\n",
       "        vertical-align: middle;\n",
       "    }\n",
       "\n",
       "    .dataframe tbody tr th {\n",
       "        vertical-align: top;\n",
       "    }\n",
       "\n",
       "    .dataframe thead th {\n",
       "        text-align: right;\n",
       "    }\n",
       "</style>\n",
       "<table border=\"1\" class=\"dataframe\">\n",
       "  <thead>\n",
       "    <tr style=\"text-align: right;\">\n",
       "      <th></th>\n",
       "      <th>engine_displacement</th>\n",
       "      <th>num_cylinders</th>\n",
       "      <th>horsepower</th>\n",
       "      <th>vehicle_weight</th>\n",
       "      <th>acceleration</th>\n",
       "      <th>model_year</th>\n",
       "      <th>origin</th>\n",
       "      <th>fuel_type</th>\n",
       "      <th>drivetrain</th>\n",
       "      <th>num_doors</th>\n",
       "      <th>fuel_efficiency_mpg</th>\n",
       "    </tr>\n",
       "  </thead>\n",
       "  <tbody>\n",
       "    <tr>\n",
       "      <th>0</th>\n",
       "      <td>170</td>\n",
       "      <td>3.0</td>\n",
       "      <td>159.0</td>\n",
       "      <td>3413.433759</td>\n",
       "      <td>17.7</td>\n",
       "      <td>2003</td>\n",
       "      <td>Europe</td>\n",
       "      <td>Gasoline</td>\n",
       "      <td>All-wheel drive</td>\n",
       "      <td>0.0</td>\n",
       "      <td>13.231729</td>\n",
       "    </tr>\n",
       "    <tr>\n",
       "      <th>1</th>\n",
       "      <td>130</td>\n",
       "      <td>5.0</td>\n",
       "      <td>97.0</td>\n",
       "      <td>3149.664934</td>\n",
       "      <td>17.8</td>\n",
       "      <td>2007</td>\n",
       "      <td>USA</td>\n",
       "      <td>Gasoline</td>\n",
       "      <td>Front-wheel drive</td>\n",
       "      <td>0.0</td>\n",
       "      <td>13.688217</td>\n",
       "    </tr>\n",
       "    <tr>\n",
       "      <th>2</th>\n",
       "      <td>170</td>\n",
       "      <td>NaN</td>\n",
       "      <td>78.0</td>\n",
       "      <td>3079.038997</td>\n",
       "      <td>15.1</td>\n",
       "      <td>2018</td>\n",
       "      <td>Europe</td>\n",
       "      <td>Gasoline</td>\n",
       "      <td>Front-wheel drive</td>\n",
       "      <td>0.0</td>\n",
       "      <td>14.246341</td>\n",
       "    </tr>\n",
       "    <tr>\n",
       "      <th>3</th>\n",
       "      <td>220</td>\n",
       "      <td>4.0</td>\n",
       "      <td>NaN</td>\n",
       "      <td>2542.392402</td>\n",
       "      <td>20.2</td>\n",
       "      <td>2009</td>\n",
       "      <td>USA</td>\n",
       "      <td>Diesel</td>\n",
       "      <td>All-wheel drive</td>\n",
       "      <td>2.0</td>\n",
       "      <td>16.912736</td>\n",
       "    </tr>\n",
       "    <tr>\n",
       "      <th>4</th>\n",
       "      <td>210</td>\n",
       "      <td>1.0</td>\n",
       "      <td>140.0</td>\n",
       "      <td>3460.870990</td>\n",
       "      <td>14.4</td>\n",
       "      <td>2009</td>\n",
       "      <td>Europe</td>\n",
       "      <td>Gasoline</td>\n",
       "      <td>All-wheel drive</td>\n",
       "      <td>2.0</td>\n",
       "      <td>12.488369</td>\n",
       "    </tr>\n",
       "  </tbody>\n",
       "</table>\n",
       "</div>"
      ],
      "text/plain": [
       "   engine_displacement  num_cylinders  horsepower  vehicle_weight  \\\n",
       "0                  170            3.0       159.0     3413.433759   \n",
       "1                  130            5.0        97.0     3149.664934   \n",
       "2                  170            NaN        78.0     3079.038997   \n",
       "3                  220            4.0         NaN     2542.392402   \n",
       "4                  210            1.0       140.0     3460.870990   \n",
       "\n",
       "   acceleration  model_year  origin fuel_type         drivetrain  num_doors  \\\n",
       "0          17.7        2003  Europe  Gasoline    All-wheel drive        0.0   \n",
       "1          17.8        2007     USA  Gasoline  Front-wheel drive        0.0   \n",
       "2          15.1        2018  Europe  Gasoline  Front-wheel drive        0.0   \n",
       "3          20.2        2009     USA    Diesel    All-wheel drive        2.0   \n",
       "4          14.4        2009  Europe  Gasoline    All-wheel drive        2.0   \n",
       "\n",
       "   fuel_efficiency_mpg  \n",
       "0            13.231729  \n",
       "1            13.688217  \n",
       "2            14.246341  \n",
       "3            16.912736  \n",
       "4            12.488369  "
      ]
     },
     "execution_count": 5,
     "metadata": {},
     "output_type": "execute_result"
    }
   ],
   "source": [
    "df = pd.read_csv(\"car_fuel_efficiency.csv\")\n",
    "df.head()"
   ]
  },
  {
   "cell_type": "code",
   "execution_count": 6,
   "id": "67215d5f-bd4f-48a3-a1f8-e24cbf64645a",
   "metadata": {},
   "outputs": [],
   "source": [
    "columns_to_use = ['engine_displacement',\n",
    "'horsepower',\n",
    "'vehicle_weight',\n",
    "'model_year',\n",
    "'fuel_efficiency_mpg']\n",
    "\n",
    "df = df[columns_to_use]"
   ]
  },
  {
   "cell_type": "code",
   "execution_count": 7,
   "id": "f891c5fa-04a6-4f3c-a2cb-c56ce87eac6d",
   "metadata": {},
   "outputs": [],
   "source": [
    "df.columns = df.columns.str.lower().str.replace(' ', '_' )\n"
   ]
  },
  {
   "cell_type": "code",
   "execution_count": 8,
   "id": "208fcc87-8cb7-4417-ae95-4edfd1fbfc1a",
   "metadata": {},
   "outputs": [
    {
     "data": {
      "text/plain": [
       "engine_displacement      int64\n",
       "horsepower             float64\n",
       "vehicle_weight         float64\n",
       "model_year               int64\n",
       "fuel_efficiency_mpg    float64\n",
       "dtype: object"
      ]
     },
     "execution_count": 8,
     "metadata": {},
     "output_type": "execute_result"
    }
   ],
   "source": [
    "df.dtypes"
   ]
  },
  {
   "cell_type": "code",
   "execution_count": 9,
   "id": "51952a2b-0498-452b-b793-59075a4687b2",
   "metadata": {},
   "outputs": [
    {
     "data": {
      "text/html": [
       "<div>\n",
       "<style scoped>\n",
       "    .dataframe tbody tr th:only-of-type {\n",
       "        vertical-align: middle;\n",
       "    }\n",
       "\n",
       "    .dataframe tbody tr th {\n",
       "        vertical-align: top;\n",
       "    }\n",
       "\n",
       "    .dataframe thead th {\n",
       "        text-align: right;\n",
       "    }\n",
       "</style>\n",
       "<table border=\"1\" class=\"dataframe\">\n",
       "  <thead>\n",
       "    <tr style=\"text-align: right;\">\n",
       "      <th></th>\n",
       "      <th>engine_displacement</th>\n",
       "      <th>horsepower</th>\n",
       "      <th>vehicle_weight</th>\n",
       "      <th>model_year</th>\n",
       "      <th>fuel_efficiency_mpg</th>\n",
       "    </tr>\n",
       "  </thead>\n",
       "  <tbody>\n",
       "    <tr>\n",
       "      <th>count</th>\n",
       "      <td>9704.00</td>\n",
       "      <td>8996.00</td>\n",
       "      <td>9704.00</td>\n",
       "      <td>9704.00</td>\n",
       "      <td>9704.00</td>\n",
       "    </tr>\n",
       "    <tr>\n",
       "      <th>mean</th>\n",
       "      <td>199.71</td>\n",
       "      <td>149.66</td>\n",
       "      <td>3001.28</td>\n",
       "      <td>2011.48</td>\n",
       "      <td>14.99</td>\n",
       "    </tr>\n",
       "    <tr>\n",
       "      <th>std</th>\n",
       "      <td>49.46</td>\n",
       "      <td>29.88</td>\n",
       "      <td>497.89</td>\n",
       "      <td>6.66</td>\n",
       "      <td>2.56</td>\n",
       "    </tr>\n",
       "    <tr>\n",
       "      <th>min</th>\n",
       "      <td>10.00</td>\n",
       "      <td>37.00</td>\n",
       "      <td>952.68</td>\n",
       "      <td>2000.00</td>\n",
       "      <td>6.20</td>\n",
       "    </tr>\n",
       "    <tr>\n",
       "      <th>25%</th>\n",
       "      <td>170.00</td>\n",
       "      <td>130.00</td>\n",
       "      <td>2666.25</td>\n",
       "      <td>2006.00</td>\n",
       "      <td>13.27</td>\n",
       "    </tr>\n",
       "    <tr>\n",
       "      <th>50%</th>\n",
       "      <td>200.00</td>\n",
       "      <td>149.00</td>\n",
       "      <td>2993.23</td>\n",
       "      <td>2012.00</td>\n",
       "      <td>15.01</td>\n",
       "    </tr>\n",
       "    <tr>\n",
       "      <th>75%</th>\n",
       "      <td>230.00</td>\n",
       "      <td>170.00</td>\n",
       "      <td>3334.96</td>\n",
       "      <td>2017.00</td>\n",
       "      <td>16.71</td>\n",
       "    </tr>\n",
       "    <tr>\n",
       "      <th>max</th>\n",
       "      <td>380.00</td>\n",
       "      <td>271.00</td>\n",
       "      <td>4739.08</td>\n",
       "      <td>2023.00</td>\n",
       "      <td>25.97</td>\n",
       "    </tr>\n",
       "  </tbody>\n",
       "</table>\n",
       "</div>"
      ],
      "text/plain": [
       "       engine_displacement  horsepower  vehicle_weight  model_year  \\\n",
       "count              9704.00     8996.00         9704.00     9704.00   \n",
       "mean                199.71      149.66         3001.28     2011.48   \n",
       "std                  49.46       29.88          497.89        6.66   \n",
       "min                  10.00       37.00          952.68     2000.00   \n",
       "25%                 170.00      130.00         2666.25     2006.00   \n",
       "50%                 200.00      149.00         2993.23     2012.00   \n",
       "75%                 230.00      170.00         3334.96     2017.00   \n",
       "max                 380.00      271.00         4739.08     2023.00   \n",
       "\n",
       "       fuel_efficiency_mpg  \n",
       "count              9704.00  \n",
       "mean                 14.99  \n",
       "std                   2.56  \n",
       "min                   6.20  \n",
       "25%                  13.27  \n",
       "50%                  15.01  \n",
       "75%                  16.71  \n",
       "max                  25.97  "
      ]
     },
     "execution_count": 9,
     "metadata": {},
     "output_type": "execute_result"
    }
   ],
   "source": [
    "df.describe().round(2)"
   ]
  },
  {
   "cell_type": "markdown",
   "id": "98c1f8db-da69-40d6-a664-ee8c9830db19",
   "metadata": {},
   "source": [
    "## EDA\n",
    "Look at the fuel_efficiency_mpg variable. Does it have a long tail?"
   ]
  },
  {
   "cell_type": "code",
   "execution_count": 10,
   "id": "f7f51069-c4f2-44fa-88b5-b903ec6a252b",
   "metadata": {
    "scrolled": true
   },
   "outputs": [
    {
     "data": {
      "image/png": "[encoded data removed]",
      "text/plain": [
       "<Figure size 600x400 with 1 Axes>"
      ]
     },
     "metadata": {},
     "output_type": "display_data"
    }
   ],
   "source": [
    "plt.figure(figsize=(6, 4))\n",
    "\n",
    "sns.histplot(df.fuel_efficiency_mpg, bins=40, color='black', alpha=1)\n",
    "plt.ylabel('Frequency')\n",
    "plt.xlabel('Fuel Efficiency')\n",
    "plt.title('Distribution of efficiency')\n",
    "\n",
    "plt.show()"
   ]
  },
  {
   "cell_type": "markdown",
   "id": "999ee51b-cd3c-447a-b090-b358719f408f",
   "metadata": {},
   "source": [
    "**No Long Tail**"
   ]
  },
  {
   "cell_type": "markdown",
   "id": "6500904a-2b26-4503-9ae9-7b0668293d30",
   "metadata": {},
   "source": [
    "## Question 1\n",
    "There's one column with missing values. What is it?"
   ]
  },
  {
   "cell_type": "code",
   "execution_count": 11,
   "id": "6c5d9641-d5d1-44f7-87e3-f93eaeec280b",
   "metadata": {},
   "outputs": [
    {
     "data": {
      "text/plain": [
       "engine_displacement      0\n",
       "horsepower             708\n",
       "vehicle_weight           0\n",
       "model_year               0\n",
       "fuel_efficiency_mpg      0\n",
       "dtype: int64"
      ]
     },
     "execution_count": 11,
     "metadata": {},
     "output_type": "execute_result"
    }
   ],
   "source": [
    "df.isnull().sum()"
   ]
  },
  {
   "cell_type": "markdown",
   "id": "ba12fc2f-6039-48a2-bb82-6991f532740f",
   "metadata": {},
   "source": [
    "## Question 2\n",
    "What's the median (50% percentile) for variable 'horsepower'?"
   ]
  },
  {
   "cell_type": "code",
   "execution_count": 12,
   "id": "70bacc6b-4aff-459a-9b98-74e7a037252b",
   "metadata": {
    "scrolled": true
   },
   "outputs": [
    {
     "data": {
      "text/html": [
       "<div>\n",
       "<style scoped>\n",
       "    .dataframe tbody tr th:only-of-type {\n",
       "        vertical-align: middle;\n",
       "    }\n",
       "\n",
       "    .dataframe tbody tr th {\n",
       "        vertical-align: top;\n",
       "    }\n",
       "\n",
       "    .dataframe thead th {\n",
       "        text-align: right;\n",
       "    }\n",
       "</style>\n",
       "<table border=\"1\" class=\"dataframe\">\n",
       "  <thead>\n",
       "    <tr style=\"text-align: right;\">\n",
       "      <th></th>\n",
       "      <th>engine_displacement</th>\n",
       "      <th>horsepower</th>\n",
       "      <th>vehicle_weight</th>\n",
       "      <th>model_year</th>\n",
       "      <th>fuel_efficiency_mpg</th>\n",
       "    </tr>\n",
       "  </thead>\n",
       "  <tbody>\n",
       "    <tr>\n",
       "      <th>count</th>\n",
       "      <td>9704.00</td>\n",
       "      <td>8996.00</td>\n",
       "      <td>9704.00</td>\n",
       "      <td>9704.00</td>\n",
       "      <td>9704.00</td>\n",
       "    </tr>\n",
       "    <tr>\n",
       "      <th>mean</th>\n",
       "      <td>199.71</td>\n",
       "      <td>149.66</td>\n",
       "      <td>3001.28</td>\n",
       "      <td>2011.48</td>\n",
       "      <td>14.99</td>\n",
       "    </tr>\n",
       "    <tr>\n",
       "      <th>std</th>\n",
       "      <td>49.46</td>\n",
       "      <td>29.88</td>\n",
       "      <td>497.89</td>\n",
       "      <td>6.66</td>\n",
       "      <td>2.56</td>\n",
       "    </tr>\n",
       "    <tr>\n",
       "      <th>min</th>\n",
       "      <td>10.00</td>\n",
       "      <td>37.00</td>\n",
       "      <td>952.68</td>\n",
       "      <td>2000.00</td>\n",
       "      <td>6.20</td>\n",
       "    </tr>\n",
       "    <tr>\n",
       "      <th>25%</th>\n",
       "      <td>170.00</td>\n",
       "      <td>130.00</td>\n",
       "      <td>2666.25</td>\n",
       "      <td>2006.00</td>\n",
       "      <td>13.27</td>\n",
       "    </tr>\n",
       "    <tr>\n",
       "      <th>50%</th>\n",
       "      <td>200.00</td>\n",
       "      <td>149.00</td>\n",
       "      <td>2993.23</td>\n",
       "      <td>2012.00</td>\n",
       "      <td>15.01</td>\n",
       "    </tr>\n",
       "    <tr>\n",
       "      <th>75%</th>\n",
       "      <td>230.00</td>\n",
       "      <td>170.00</td>\n",
       "      <td>3334.96</td>\n",
       "      <td>2017.00</td>\n",
       "      <td>16.71</td>\n",
       "    </tr>\n",
       "    <tr>\n",
       "      <th>max</th>\n",
       "      <td>380.00</td>\n",
       "      <td>271.00</td>\n",
       "      <td>4739.08</td>\n",
       "      <td>2023.00</td>\n",
       "      <td>25.97</td>\n",
       "    </tr>\n",
       "  </tbody>\n",
       "</table>\n",
       "</div>"
      ],
      "text/plain": [
       "       engine_displacement  horsepower  vehicle_weight  model_year  \\\n",
       "count              9704.00     8996.00         9704.00     9704.00   \n",
       "mean                199.71      149.66         3001.28     2011.48   \n",
       "std                  49.46       29.88          497.89        6.66   \n",
       "min                  10.00       37.00          952.68     2000.00   \n",
       "25%                 170.00      130.00         2666.25     2006.00   \n",
       "50%                 200.00      149.00         2993.23     2012.00   \n",
       "75%                 230.00      170.00         3334.96     2017.00   \n",
       "max                 380.00      271.00         4739.08     2023.00   \n",
       "\n",
       "       fuel_efficiency_mpg  \n",
       "count              9704.00  \n",
       "mean                 14.99  \n",
       "std                   2.56  \n",
       "min                   6.20  \n",
       "25%                  13.27  \n",
       "50%                  15.01  \n",
       "75%                  16.71  \n",
       "max                  25.97  "
      ]
     },
     "execution_count": 12,
     "metadata": {},
     "output_type": "execute_result"
    }
   ],
   "source": [
    "df.describe().round(2)"
   ]
  },
  {
   "cell_type": "markdown",
   "id": "ab9aff3e-7334-4a7e-9c8e-de994c954eca",
   "metadata": {},
   "source": [
    "## Prepare and split the dataset\n",
    "- Prepare and split the dataset\n",
    "- Shuffle the dataset (the filtered one you created above), use seed 42.\n",
    "- Split your data in train/val/test sets, with 60%/20%/20% distribution."
   ]
  },
  {
   "cell_type": "code",
   "execution_count": 13,
   "id": "e2e3dfb6-feff-4922-9a5c-5e75416e58f2",
   "metadata": {},
   "outputs": [],
   "source": [
    "np.random.seed(42)\n",
    "\n",
    "n = len(df)\n",
    "\n",
    "\n",
    "n_val = int(0.2 * n)\n",
    "n_test = int(0.2 * n)\n",
    "n_train = n - (n_val + n_test)\n",
    "\n",
    "\n",
    "idx = np.arange(n)\n",
    "np.random.shuffle(idx)\n",
    "\n",
    "df_shuffled = df.iloc[idx]\n",
    "\n",
    "df_train = df_shuffled.iloc[:n_train].copy()\n",
    "df_val = df_shuffled.iloc[n_train:n_train+n_val].copy()\n",
    "df_test = df_shuffled.iloc[n_train+n_val:].copy()"
   ]
  },
  {
   "cell_type": "code",
   "execution_count": 14,
   "id": "0c9dd503-7a3a-4e19-807e-45072540585a",
   "metadata": {},
   "outputs": [],
   "source": [
    "df_train = df_train.reset_index(drop=True)\n",
    "df_val = df_val.reset_index(drop=True)\n",
    "df_test = df_test.reset_index(drop=True)\n",
    "\n",
    "y_train_orig = df_train.fuel_efficiency_mpg.values\n",
    "y_val_orig = df_val.fuel_efficiency_mpg.values\n",
    "y_test_orig = df_test.fuel_efficiency_mpg.values\n",
    "\n",
    "y_train = np.log1p(df_train.fuel_efficiency_mpg.values)\n",
    "y_val = np.log1p(df_val.fuel_efficiency_mpg.values)\n",
    "y_test = np.log1p(df_test.fuel_efficiency_mpg.values)\n",
    "\n",
    "del df_train['fuel_efficiency_mpg']\n",
    "del df_val['fuel_efficiency_mpg']\n",
    "del df_test['fuel_efficiency_mpg']"
   ]
  },
  {
   "cell_type": "markdown",
   "id": "7ae74a0a-8580-43ea-a217-0ae17d7f2775",
   "metadata": {},
   "source": [
    "## Question 3"
   ]
  },
  {
   "cell_type": "markdown",
   "id": "973a7ff4-1ef1-4ab9-8874-555b5d3aac5d",
   "metadata": {},
   "source": [
    "1. We need to deal with missing values for the column from Q1.\n",
    "2. We have two options: fill it with 0 or with the mean of this variable.\n",
    "3. Try both options. For each, train a linear regression model without regularization using the code from the lessons.\n",
    "4. For computing the mean, use the training only!\n",
    "5. Use the validation dataset to evaluate the models and compare the RMSE of each option.\n",
    "6. Round the RMSE scores to 2 decimal digits using round(score, 2)\n",
    "7. Which option gives better RMSE?"
   ]
  },
  {
   "cell_type": "code",
   "execution_count": 15,
   "id": "42d0728f-d599-4af9-8843-dad4540f62fe",
   "metadata": {},
   "outputs": [
    {
     "data": {
      "text/plain": [
       "engine_displacement      0\n",
       "horsepower             429\n",
       "vehicle_weight           0\n",
       "model_year               0\n",
       "dtype: int64"
      ]
     },
     "execution_count": 15,
     "metadata": {},
     "output_type": "execute_result"
    }
   ],
   "source": [
    "df_train.isnull().sum()"
   ]
  },
  {
   "cell_type": "code",
   "execution_count": null,
   "id": "d7d83b10-c537-481a-945e-9440cd66a936",
   "metadata": {},
   "outputs": [],
   "source": [
    "    "
   ]
  },
  {
   "cell_type": "code",
   "execution_count": 16,
   "id": "18a18e20-51f3-4e1d-a77b-51eb4bc92f64",
   "metadata": {},
   "outputs": [],
   "source": [
    "def train_linear_regression(X, y):\n",
    "    ones = np.ones(X.shape[0])\n",
    "    X = np.column_stack([ones, X])\n",
    "\n",
    "    XTX = X.T.dot(X)\n",
    "    XTX_inv = np.linalg.inv(XTX)\n",
    "    w = XTX_inv.dot(X.T).dot(y)\n",
    "    \n",
    "    return w[0], w[1:]"
   ]
  },
  {
   "cell_type": "code",
   "execution_count": 17,
   "id": "9f14a5b2-12b8-4335-a7f1-f6662fbd4761",
   "metadata": {},
   "outputs": [],
   "source": [
    "def prepare_X(df, fill_na):\n",
    "    df_num = df\n",
    "    df_num = df_num.fillna(fill_na)\n",
    "    X = df_num.values\n",
    "    return X"
   ]
  },
  {
   "cell_type": "code",
   "execution_count": 18,
   "id": "9692a9d9-e3f5-49f4-94dd-a290cf839b2d",
   "metadata": {},
   "outputs": [],
   "source": [
    "def rmse(y, y_pred):\n",
    "    error = y_pred - y\n",
    "    mse = (error ** 2).mean()\n",
    "    return np.sqrt(mse)"
   ]
  },
  {
   "cell_type": "code",
   "execution_count": 24,
   "id": "7bac233a-0309-4039-a54f-ae7682000930",
   "metadata": {},
   "outputs": [
    {
     "data": {
      "text/plain": [
       "np.float64(0.04)"
      ]
     },
     "execution_count": 24,
     "metadata": {},
     "output_type": "execute_result"
    }
   ],
   "source": [
    "X_train = prepare_X(df_train,0)\n",
    "w_0, w = train_linear_regression(X_train, y_train)\n",
    "\n",
    "y_pred = w_0 + X_train.dot(w)\n",
    "\n",
    "round(rmse(y_train, y_pred),2)"
   ]
  },
  {
   "cell_type": "code",
   "execution_count": 25,
   "id": "d9c6e694-3277-43b0-af88-4c64bf6f5700",
   "metadata": {},
   "outputs": [
    {
     "data": {
      "text/plain": [
       "np.float64(0.04)"
      ]
     },
     "execution_count": 25,
     "metadata": {},
     "output_type": "execute_result"
    }
   ],
   "source": [
    "X_train = prepare_X(df_train,df_train['horsepower'].mean())\n",
    "w_0, w = train_linear_regression(X_train, y_train)\n",
    "\n",
    "y_pred = w_0 + X_train.dot(w)\n",
    "\n",
    "round(rmse(y_train, y_pred),2)"
   ]
  },
  {
   "cell_type": "code",
   "execution_count": 21,
   "id": "76ba9254-932a-4095-89a9-979899b6c52f",
   "metadata": {},
   "outputs": [
    {
     "data": {
      "image/png": "[encoded data removed]",
      "text/plain": [
       "<Figure size 600x400 with 1 Axes>"
      ]
     },
     "metadata": {},
     "output_type": "display_data"
    }
   ],
   "source": [
    "plt.figure(figsize=(6, 4))\n",
    "\n",
    "sns.histplot(y_train, label='target', color='#222222', alpha=0.6, bins=40)\n",
    "sns.histplot(y_pred, label='prediction', color='#aaaaaa', alpha=0.8, bins=40)\n",
    "\n",
    "plt.legend()\n",
    "\n",
    "plt.ylabel('Frequency')\n",
    "plt.xlabel('fuel_efficiency_mpg')\n",
    "plt.title('Predictions vs actual distribution')\n",
    "\n",
    "plt.show()"
   ]
  },
  {
   "cell_type": "code",
   "execution_count": 22,
   "id": "a1b205fb-3fb7-49bf-94fd-4cbddc58bcd1",
   "metadata": {},
   "outputs": [],
   "source": [
    "X_val = prepare_X(df_val,0)\n",
    "y_pred = w_0 + X_val.dot(w)"
   ]
  },
  {
   "cell_type": "code",
   "execution_count": 23,
   "id": "b8af28d7-8750-40a7-a4e6-69f3dda5fb77",
   "metadata": {},
   "outputs": [
    {
     "data": {
      "text/plain": [
       "np.float64(0.04497119647380536)"
      ]
     },
     "execution_count": 23,
     "metadata": {},
     "output_type": "execute_result"
    }
   ],
   "source": [
    "rmse(y_val, y_pred)"
   ]
  },
  {
   "cell_type": "markdown",
   "id": "0468f949-7329-4286-bc57-138391a9151b",
   "metadata": {},
   "source": [
    "## Regularization"
   ]
  },
  {
   "cell_type": "code",
   "execution_count": 32,
   "id": "92e2420c-e90d-4136-b35a-63d746a23a19",
   "metadata": {},
   "outputs": [],
   "source": [
    "def train_linear_regression_reg(X, y, r=0.0):\n",
    "    ones = np.ones(X.shape[0])\n",
    "    X = np.column_stack([ones, X])\n",
    "\n",
    "    XTX = X.T.dot(X)\n",
    "    reg = r * np.eye(XTX.shape[0])\n",
    "    XTX = XTX + reg\n",
    "\n",
    "    XTX_inv = np.linalg.inv(XTX)\n",
    "    w = XTX_inv.dot(X.T).dot(y)\n",
    "    \n",
    "    return w[0], w[1:]"
   ]
  },
  {
   "cell_type": "code",
   "execution_count": 33,
   "id": "6b5d900c-0a9a-4d35-befe-4c44677e4dd8",
   "metadata": {},
   "outputs": [],
   "source": [
    "def prepare_X(df_req):\n",
    "    df_num = df_req.copy()\n",
    "    return df_num.fillna(0).values"
   ]
  },
  {
   "cell_type": "code",
   "execution_count": 35,
   "id": "01ada30f-55bc-4604-974d-4fba7e13fc36",
   "metadata": {},
   "outputs": [
    {
     "name": "stdout",
     "output_type": "stream",
     "text": [
      "     0 0.039979257825777034\n",
      "  0.01 0.039977872016356164\n",
      "   0.1 0.04050873984547382\n",
      "     1 0.041353851508238566\n",
      "    10 0.04152680123751592\n",
      "   100 0.04154575656081053\n"
     ]
    }
   ],
   "source": [
    "for r in [0, 0.01, 0.1, 1, 10, 100]:\n",
    "    w_0, w = train_linear_regression_reg(X_train, y_train, r=r)\n",
    "    y_pred = w_0 + X_val.dot(w)\n",
    "    print('%6s' %r, rmse(y_val, y_pred))"
   ]
  },
  {
   "cell_type": "code",
   "execution_count": null,
   "id": "ba630d8a-33a7-45c0-a769-0ca214864a26",
   "metadata": {},
   "outputs": [],
   "source": [
    "X_train = prepare_X(df_train)\n",
    "w_0, w = train_linear_regression_reg(X_train, y_train, r=0)\n",
    "\n",
    "y_pred = w_0 + X_train.dot(w)\n",
    "print('train', rmse(y_train, y_pred))\n",
    "\n",
    "X_val = prepare_X(df_val)\n",
    "y_pred = w_0 + X_val.dot(w)\n",
    "print('val', rmse(y_val, y_pred))"
   ]
  },
  {
   "cell_type": "code",
   "execution_count": null,
   "id": "e28c7c66-ef36-4022-84c0-1d29d7f70da5",
   "metadata": {},
   "outputs": [],
   "source": [
    "X_train = prepare_X(df_train)\n",
    "w_0, w = train_linear_regression_reg(X_train, y_train, r=0.01)\n",
    "\n",
    "y_pred = w_0 + X_train.dot(w)\n",
    "print('train', rmse(y_train, y_pred))\n",
    "\n",
    "X_val = prepare_X(df_val)\n",
    "y_pred = w_0 + X_val.dot(w)\n",
    "print('val', rmse(y_val, y_pred))"
   ]
  },
  {
   "cell_type": "code",
   "execution_count": null,
   "id": "864641a7-29e3-426f-a56a-afd51af284b4",
   "metadata": {},
   "outputs": [],
   "source": [
    "X_train = prepare_X(df_train)\n",
    "X_val = prepare_X(df_val)\n",
    "\n",
    "for r in [0.000001, 0.0001, 0.001, 0.01, 0.1, 1, 5, 10]:\n",
    "    w_0, w = train_linear_regression_reg(X_train, y_train, r=r)\n",
    "    y_pred = w_0 + X_val.dot(w)\n",
    "    print('%6s' %r, rmse(y_val, y_pred))"
   ]
  },
  {
   "cell_type": "code",
   "execution_count": null,
   "id": "a74c1a2c-6d9e-49a3-8e47-febcca9086ff",
   "metadata": {},
   "outputs": [],
   "source": [
    "X_train = prepare_X(df_train)\n",
    "w_0, w = train_linear_regression_reg(X_train, y_train, r=0.01)\n",
    "\n",
    "X_val = prepare_X(df_val)\n",
    "y_pred = w_0 + X_val.dot(w)\n",
    "print('validation:', rmse(y_val, y_pred))\n",
    "\n",
    "X_test = prepare_X(df_test)\n",
    "y_pred = w_0 + X_test.dot(w)\n",
    "print('test:', rmse(y_test, y_pred))"
   ]
  }
 ],
 "metadata": {
  "kernelspec": {
   "display_name": "Python 3 (ipykernel)",
   "language": "python",
   "name": "python3"
  },
  "language_info": {
   "codemirror_mode": {
    "name": "ipython",
    "version": 3
   },
   "file_extension": ".py",
   "mimetype": "text/x-python",
   "name": "python",
   "nbconvert_exporter": "python",
   "pygments_lexer": "ipython3",
   "version": "3.12.3"
  }
 },
 "nbformat": 4,
 "nbformat_minor": 5
}
